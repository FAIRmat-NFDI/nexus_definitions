{
  "cells": [
    {
      "cell_type": "markdown",
      "metadata": {},
      "source": [
        "\n# 2D Histogram\n\nHistogram on a regular two-dimensional grid.\n\nThe x-axis and y-axis define the bin edges. As illustrated in this example,\nthe bin widths are not necessarily identical.\n\n.. code::\n\n  @NX_class = \"NXroot\"\n  @default = \"scan1\"\n  scan1:\n    @NX_class = \"NXentry\"\n    @default = \"data\"\n    data:\n      @NX_class = \"NXdata\"\n      @axes = [\"y\", \"x\"]\n      @signal = \"z\"\n      x: NX_FLOAT64[7]\n      y: NX_FLOAT64[9]\n      z: NX_FLOAT64[8,6]\n\nExplanation:\n\n1. ``@axes`` has two values which corresponds to the signal rank of two.\n\n2. ``z`` is the default signal to be plotted versus ``x`` and ``y``.\n\n3. ``z`` has 6 rows and 8 columns.\n\n4. ``y`` has one more value than the first dimension of ``z`` since it contains the bin edges.\n\n5. ``x`` has one more value than the second dimension of ``z`` since it contains the bin edges.\n"
      ]
    },
    {
      "cell_type": "code",
      "execution_count": null,
      "metadata": {
        "collapsed": false
      },
      "outputs": [],
      "source": [
        "# Data\nimport numpy as np\n\nx = [-3.0, -2.5, -1.0, 0.0, 1.0, 2.5, 3.0]\ny = [-3.0, -2.8, -1.3, -0.75, 0.0, 0.1, 1.5, 2.25, 3.0]\n\nxx = np.linspace(-3, 3, 200)\nyy = np.linspace(-3, 3, 200)\nxx, yy = np.meshgrid(xx, yy)\nzz = (1 - xx / 2 + xx**5 + yy**3) * np.exp(-(xx**2) - yy**2)\nz, _, _ = np.histogram2d(yy.flatten(), xx.flatten(), bins=[y, x], weights=zz.flatten())\n\n# Plot\nimport matplotlib.pyplot as plt  # noqa E402\n\nplt.style.use(\"_mpl-gallery-nogrid\")\n\nfig, ax = plt.subplots()\n\nmesh = ax.pcolormesh(x, y, z, edgecolor=\"k\", linewidth=0.7, shading=\"flat\")\n\nplt.show()"
      ]
    }
  ],
  "metadata": {
    "kernelspec": {
      "display_name": "Python 3",
      "language": "python",
      "name": "python3"
    },
    "language_info": {
      "codemirror_mode": {
        "name": "ipython",
        "version": 3
      },
      "file_extension": ".py",
      "mimetype": "text/x-python",
      "name": "python",
      "nbconvert_exporter": "python",
      "pygments_lexer": "ipython3",
      "version": "3.9.22"
    }
  },
  "nbformat": 4,
  "nbformat_minor": 0
}